{
  "nbformat": 4,
  "nbformat_minor": 0,
  "metadata": {
    "colab": {
      "name": "Myfirstnotebook.ipynb",
      "provenance": [],
      "collapsed_sections": [],
      "authorship_tag": "ABX9TyPKjEw71OSjaixT9Y2TTkKf",
      "include_colab_link": true
    },
    "kernelspec": {
      "name": "python3",
      "display_name": "Python 3"
    },
    "language_info": {
      "name": "python"
    }
  },
  "cells": [
    {
      "cell_type": "markdown",
      "metadata": {
        "id": "view-in-github",
        "colab_type": "text"
      },
      "source": [
        "<a href=\"https://colab.research.google.com/github/yaswanthroyal/Basic-ML/blob/main/Myfirstnotebook.ipynb\" target=\"_parent\"><img src=\"https://colab.research.google.com/assets/colab-badge.svg\" alt=\"Open In Colab\"/></a>"
      ]
    },
    {
      "cell_type": "markdown",
      "metadata": {
        "id": "FoPqm97NGiJp"
      },
      "source": [
        "**Python program for finding factorial:**"
      ]
    },
    {
      "cell_type": "code",
      "metadata": {
        "id": "rdUaPvrGGjCs"
      },
      "source": [
        "N = int(input(\"Enter a number: \"))    \n",
        "factorial = 1    \n",
        "if N < 0:    \n",
        "   print(\" Factorial does not exist for negative numbers\")    \n",
        "elif N == 0:    \n",
        "   print(\"The factorial of 0 is 1\")    \n",
        "else:    \n",
        "   for i in range(1,N+ 1):    \n",
        "       factorial = factorial*i    \n",
        "   print(\"The factorial of\",N,\"is\",factorial)"
      ],
      "execution_count": null,
      "outputs": []
    },
    {
      "cell_type": "markdown",
      "metadata": {
        "id": "cMM4yHVuGmK0"
      },
      "source": [
        "The above program find the factorial of a number using python. when the user inputs a number, the above python program calculates the factorial. Here, the number whose factorial is to be found is stored in num, and we check if the number is negative, zero or positive using if...elif...else statement. If the number is positive, we use for loop and range() function to calculate the factorial"
      ]
    },
    {
      "cell_type": "markdown",
      "metadata": {
        "id": "LyzMEidNGqj9"
      },
      "source": [
        "**Python Program to Swap Two Variables:**"
      ]
    },
    {
      "cell_type": "code",
      "metadata": {
        "id": "pDgw1TbtGuGz"
      },
      "source": [
        "x = input('Enter value of x: ')\n",
        "y = input('Enter value of y: ')\n",
        "temp = x\n",
        "x = y\n",
        "y = temp\n",
        "\n",
        "print('The value of x after swapping: {}'.format(x))\n",
        "print('The value of y after swapping: {}'.format(y))"
      ],
      "execution_count": null,
      "outputs": []
    },
    {
      "cell_type": "markdown",
      "metadata": {
        "id": "1CF6V28cGzH-"
      },
      "source": [
        "With the help of above program we can swap two variables using python. In this program, we use the temp variable to hold the value of x temporarily. We then put the value of y in x and later temp in y. In this way, the values get exchanged."
      ]
    },
    {
      "cell_type": "markdown",
      "metadata": {
        "id": "bHBFPuKFG3p6"
      },
      "source": [
        "**Python program for finding a string is palindrome or not:**"
      ]
    },
    {
      "cell_type": "code",
      "metadata": {
        "id": "9WhX9u78G4FT"
      },
      "source": [
        "string = input(\"Please enter any string: \")\n",
        "if(string == string[::-1]):\n",
        "  print(\"This is a palindrome string\")\n",
        "else:\n",
        "  print(\"This is not a palindrome string\")"
      ],
      "execution_count": null,
      "outputs": []
    },
    {
      "cell_type": "markdown",
      "metadata": {
        "id": "UikM5jTbG4fn"
      },
      "source": [
        "The above python program checks whether the input string is a palindrome or not.When we reverse the given string if this is same as the given number then this is palindrome and viceversa.When we read the string as input using if-else statement we can easily find the requried output."
      ]
    }
  ]
}